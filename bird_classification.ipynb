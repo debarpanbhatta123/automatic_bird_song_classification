{
  "nbformat": 4,
  "nbformat_minor": 0,
  "metadata": {
    "colab": {
      "name": "kaggle_bird_classification.ipynb",
      "provenance": [],
      "collapsed_sections": []
    },
    "kernelspec": {
      "display_name": "Python 3",
      "name": "python3"
    },
    "language_info": {
      "name": "python"
    }
  },
  "cells": [
    {
      "cell_type": "code",
      "metadata": {
        "colab": {
          "base_uri": "https://localhost:8080/"
        },
        "id": "xwG_J49NQhbe",
        "outputId": "82996535-0d2e-4a45-f811-f554ad04f709"
      },
      "source": [
        "pip install pydub"
      ],
      "execution_count": null,
      "outputs": [
        {
          "output_type": "stream",
          "text": [
            "Collecting pydub\n",
            "  Downloading https://files.pythonhosted.org/packages/a6/53/d78dc063216e62fc55f6b2eebb447f6a4b0a59f55c8406376f76bf959b08/pydub-0.25.1-py2.py3-none-any.whl\n",
            "Installing collected packages: pydub\n",
            "Successfully installed pydub-0.25.1\n"
          ],
          "name": "stdout"
        }
      ]
    },
    {
      "cell_type": "code",
      "metadata": {
        "colab": {
          "base_uri": "https://localhost:8080/"
        },
        "id": "j_1O8ke0QrNy",
        "outputId": "8dcd9966-b4d0-47ad-ac4d-4cfa1b88825b"
      },
      "source": [
        "pip install pysndfile"
      ],
      "execution_count": null,
      "outputs": [
        {
          "output_type": "stream",
          "text": [
            "Requirement already satisfied: pysndfile in /usr/local/lib/python3.7/dist-packages (1.3.8)\n",
            "Requirement already satisfied: numpy>=1.13.0 in /usr/local/lib/python3.7/dist-packages (from pysndfile) (1.19.5)\n"
          ],
          "name": "stdout"
        }
      ]
    },
    {
      "cell_type": "code",
      "metadata": {
        "colab": {
          "base_uri": "https://localhost:8080/"
        },
        "id": "xrdNInOwQtdx",
        "outputId": "889b197b-4c96-4aed-eba0-72a2ebad1f07"
      },
      "source": [
        "pip install audiomentations"
      ],
      "execution_count": null,
      "outputs": [
        {
          "output_type": "stream",
          "text": [
            "Collecting audiomentations\n",
            "  Downloading https://files.pythonhosted.org/packages/b1/c8/22c97b5327a563398b308532d8d671111d0dd63f44a208ecaf78dfac4ec3/audiomentations-0.17.0-py3-none-any.whl\n",
            "Requirement already satisfied: numpy>=1.13.0 in /usr/local/lib/python3.7/dist-packages (from audiomentations) (1.19.5)\n",
            "Requirement already satisfied: librosa<=0.8.1,>=0.6.1 in /usr/local/lib/python3.7/dist-packages (from audiomentations) (0.8.1)\n",
            "Requirement already satisfied: scipy>=1.0.0 in /usr/local/lib/python3.7/dist-packages (from audiomentations) (1.4.1)\n",
            "Requirement already satisfied: soundfile>=0.10.2 in /usr/local/lib/python3.7/dist-packages (from librosa<=0.8.1,>=0.6.1->audiomentations) (0.10.3.post1)\n",
            "Requirement already satisfied: scikit-learn!=0.19.0,>=0.14.0 in /usr/local/lib/python3.7/dist-packages (from librosa<=0.8.1,>=0.6.1->audiomentations) (0.22.2.post1)\n",
            "Requirement already satisfied: joblib>=0.14 in /usr/local/lib/python3.7/dist-packages (from librosa<=0.8.1,>=0.6.1->audiomentations) (1.0.1)\n",
            "Requirement already satisfied: packaging>=20.0 in /usr/local/lib/python3.7/dist-packages (from librosa<=0.8.1,>=0.6.1->audiomentations) (20.9)\n",
            "Requirement already satisfied: resampy>=0.2.2 in /usr/local/lib/python3.7/dist-packages (from librosa<=0.8.1,>=0.6.1->audiomentations) (0.2.2)\n",
            "Requirement already satisfied: pooch>=1.0 in /usr/local/lib/python3.7/dist-packages (from librosa<=0.8.1,>=0.6.1->audiomentations) (1.4.0)\n",
            "Requirement already satisfied: decorator>=3.0.0 in /usr/local/lib/python3.7/dist-packages (from librosa<=0.8.1,>=0.6.1->audiomentations) (4.4.2)\n",
            "Requirement already satisfied: audioread>=2.0.0 in /usr/local/lib/python3.7/dist-packages (from librosa<=0.8.1,>=0.6.1->audiomentations) (2.1.9)\n",
            "Requirement already satisfied: numba>=0.43.0 in /usr/local/lib/python3.7/dist-packages (from librosa<=0.8.1,>=0.6.1->audiomentations) (0.51.2)\n",
            "Requirement already satisfied: cffi>=1.0 in /usr/local/lib/python3.7/dist-packages (from soundfile>=0.10.2->librosa<=0.8.1,>=0.6.1->audiomentations) (1.14.5)\n",
            "Requirement already satisfied: pyparsing>=2.0.2 in /usr/local/lib/python3.7/dist-packages (from packaging>=20.0->librosa<=0.8.1,>=0.6.1->audiomentations) (2.4.7)\n",
            "Requirement already satisfied: six>=1.3 in /usr/local/lib/python3.7/dist-packages (from resampy>=0.2.2->librosa<=0.8.1,>=0.6.1->audiomentations) (1.15.0)\n",
            "Requirement already satisfied: appdirs in /usr/local/lib/python3.7/dist-packages (from pooch>=1.0->librosa<=0.8.1,>=0.6.1->audiomentations) (1.4.4)\n",
            "Requirement already satisfied: requests in /usr/local/lib/python3.7/dist-packages (from pooch>=1.0->librosa<=0.8.1,>=0.6.1->audiomentations) (2.23.0)\n",
            "Requirement already satisfied: llvmlite<0.35,>=0.34.0.dev0 in /usr/local/lib/python3.7/dist-packages (from numba>=0.43.0->librosa<=0.8.1,>=0.6.1->audiomentations) (0.34.0)\n",
            "Requirement already satisfied: setuptools in /usr/local/lib/python3.7/dist-packages (from numba>=0.43.0->librosa<=0.8.1,>=0.6.1->audiomentations) (57.0.0)\n",
            "Requirement already satisfied: pycparser in /usr/local/lib/python3.7/dist-packages (from cffi>=1.0->soundfile>=0.10.2->librosa<=0.8.1,>=0.6.1->audiomentations) (2.20)\n",
            "Requirement already satisfied: chardet<4,>=3.0.2 in /usr/local/lib/python3.7/dist-packages (from requests->pooch>=1.0->librosa<=0.8.1,>=0.6.1->audiomentations) (3.0.4)\n",
            "Requirement already satisfied: certifi>=2017.4.17 in /usr/local/lib/python3.7/dist-packages (from requests->pooch>=1.0->librosa<=0.8.1,>=0.6.1->audiomentations) (2021.5.30)\n",
            "Requirement already satisfied: idna<3,>=2.5 in /usr/local/lib/python3.7/dist-packages (from requests->pooch>=1.0->librosa<=0.8.1,>=0.6.1->audiomentations) (2.10)\n",
            "Requirement already satisfied: urllib3!=1.25.0,!=1.25.1,<1.26,>=1.21.1 in /usr/local/lib/python3.7/dist-packages (from requests->pooch>=1.0->librosa<=0.8.1,>=0.6.1->audiomentations) (1.24.3)\n",
            "Installing collected packages: audiomentations\n",
            "Successfully installed audiomentations-0.17.0\n"
          ],
          "name": "stdout"
        }
      ]
    },
    {
      "cell_type": "code",
      "metadata": {
        "colab": {
          "base_uri": "https://localhost:8080/"
        },
        "id": "wcci8zgwQvst",
        "outputId": "6b549d86-d635-477a-9277-470539c901d8"
      },
      "source": [
        "pip install torchaudio"
      ],
      "execution_count": null,
      "outputs": [
        {
          "output_type": "stream",
          "text": [
            "Collecting torchaudio\n",
            "\u001b[?25l  Downloading https://files.pythonhosted.org/packages/a8/20/eab40caad8f4b97f5e91a5de8ba5ec29115e08fa4c9a808725490b7b4844/torchaudio-0.9.0-cp37-cp37m-manylinux1_x86_64.whl (1.9MB)\n",
            "\u001b[K     |████████████████████████████████| 1.9MB 9.6MB/s \n",
            "\u001b[?25hRequirement already satisfied: torch==1.9.0 in /usr/local/lib/python3.7/dist-packages (from torchaudio) (1.9.0+cu102)\n",
            "Requirement already satisfied: typing-extensions in /usr/local/lib/python3.7/dist-packages (from torch==1.9.0->torchaudio) (3.7.4.3)\n",
            "Installing collected packages: torchaudio\n",
            "Successfully installed torchaudio-0.9.0\n"
          ],
          "name": "stdout"
        }
      ]
    },
    {
      "cell_type": "code",
      "metadata": {
        "id": "d8Ti03btQyQ1"
      },
      "source": [
        "import numpy as np\n",
        "import numpy\n",
        "#import scipy.io.wavfile\n",
        "#import scipy.signal\n",
        "#from scipy import signal\n",
        "import os\n",
        "#import soundfile as sf\n",
        "#import sys\n",
        "#import pandas as pd\n",
        "from sklearn.model_selection import train_test_split\n",
        "#from sklearn.preprocessing import StandardScaler\n",
        "#from sklearn.decomposition import PCA\n",
        "#from sklearn.cluster import KMeans\n",
        "#from scipy.stats import multivariate_normal\n",
        "import matplotlib.pyplot as plt\n",
        "#import librosa\n",
        "from os import path\n",
        "import seaborn as sns\n",
        "#from pydub import AudioSegment\n",
        "#import torch\n",
        "#import torchaudio\n",
        "#from pydub import AudioSegment\n",
        "#from audiomentations import Compose, AddGaussianNoise, TimeStretch\n",
        "from skimage.transform import rescale, resize, downscale_local_mean\n",
        "import keras\n",
        "from skimage import exposure\n",
        "from keras.models import Sequential\n",
        "from keras.layers import Dense, Dropout, Flatten\n",
        "from keras.layers import Conv2D, MaxPooling2D\n",
        "#from keras.layers. normalization import BatchNormalization\n",
        "from tensorflow.keras.utils import to_categorical\n",
        "#from skimage import exposure\n",
        "#from skimage.filters import threshold_otsu\n",
        "from keras import backend as K\n",
        "from sklearn.metrics import confusion_matrix, ConfusionMatrixDisplay\n",
        "import tensorflow as tf\n",
        "tf.config.run_functions_eagerly(True)"
      ],
      "execution_count": null,
      "outputs": []
    },
    {
      "cell_type": "code",
      "metadata": {
        "id": "-OLk7qv_Q1J1"
      },
      "source": [
        "folder_path = '/content/drive/MyDrive/TFA/kaggle_data/'\n",
        "data_save_path = '/content/drive/MyDrive/TFA/data_save/'"
      ],
      "execution_count": null,
      "outputs": []
    },
    {
      "cell_type": "code",
      "metadata": {
        "id": "NosFFosg9YZ7"
      },
      "source": [
        "birds_names = os.listdir(folder_path)"
      ],
      "execution_count": null,
      "outputs": []
    },
    {
      "cell_type": "code",
      "metadata": {
        "colab": {
          "base_uri": "https://localhost:8080/"
        },
        "id": "UgNv8AXO9xJJ",
        "outputId": "a528e299-89e2-43b0-8b9e-4af348623d12"
      },
      "source": [
        "birds_names"
      ],
      "execution_count": null,
      "outputs": [
        {
          "output_type": "execute_result",
          "data": {
            "text/plain": [
              "['rewbla',\n",
              " 'mallar3',\n",
              " 'redcro',\n",
              " 'rucspa1',\n",
              " 'sonspa',\n",
              " 'swathr',\n",
              " 'houwre',\n",
              " 'spotow',\n",
              " 'norcar',\n",
              " 'rubpep1',\n",
              " 'bewwre',\n",
              " 'bcnher',\n",
              " 'comrav',\n",
              " 'carwre',\n",
              " 'cubthr',\n",
              " 'gbwwre1',\n",
              " 'bncfly',\n",
              " 'blujay',\n",
              " 'houspa',\n",
              " 'eursta',\n",
              " 'banana',\n",
              " 'barswa',\n",
              " 'amerob']"
            ]
          },
          "metadata": {
            "tags": []
          },
          "execution_count": 7
        }
      ]
    },
    {
      "cell_type": "code",
      "metadata": {
        "id": "e6AV5AYQCGAT"
      },
      "source": [
        "n_audios = []\n",
        "for i in range(len(birds_names)):\n",
        "  n_audios.append(len(os.listdir(folder_path+birds_names[i]+'/')))\n",
        "\n",
        "data_mat_names = os.listdir(data_save_path)"
      ],
      "execution_count": null,
      "outputs": []
    },
    {
      "cell_type": "code",
      "metadata": {
        "colab": {
          "base_uri": "https://localhost:8080/"
        },
        "id": "PNeEuv9kCQba",
        "outputId": "8cfc8a7c-617d-400f-f66b-8832ef7d9a61"
      },
      "source": [
        "n_audios"
      ],
      "execution_count": null,
      "outputs": [
        {
          "output_type": "execute_result",
          "data": {
            "text/plain": [
              "[500,\n",
              " 484,\n",
              " 500,\n",
              " 403,\n",
              " 500,\n",
              " 450,\n",
              " 500,\n",
              " 500,\n",
              " 500,\n",
              " 441,\n",
              " 466,\n",
              " 334,\n",
              " 500,\n",
              " 464,\n",
              " 500,\n",
              " 500,\n",
              " 406,\n",
              " 328,\n",
              " 500,\n",
              " 500,\n",
              " 309,\n",
              " 500,\n",
              " 481]"
            ]
          },
          "metadata": {
            "tags": []
          },
          "execution_count": 32
        }
      ]
    },
    {
      "cell_type": "code",
      "metadata": {
        "id": "e8p_cTGTQ9L0"
      },
      "source": [
        "##for i in range(len(data_mat_names)):\n",
        "#  print(np.load(data_save_path+data_mat_names[i]).shape)\n",
        "\n",
        "#torch.cuda.is_available()\n",
        "#K.tensorflow_backend._get_available_gpus()"
      ],
      "execution_count": null,
      "outputs": []
    },
    {
      "cell_type": "code",
      "metadata": {
        "colab": {
          "base_uri": "https://localhost:8080/"
        },
        "id": "6-SdHYeO3mMY",
        "outputId": "686d4807-cb64-4612-8a53-ae53a51dd876"
      },
      "source": [
        "class_no=18\n",
        "class0_data = np.load(data_save_path+'stft_'+str(class_no)+'.npy')\n",
        "n_rows, n_cols = class0_data.shape[0], class0_data.shape[1]\n",
        "n_samples = class0_data.shape[1]/n_audios[class_no]\n",
        "print(n_samples)\n",
        "n_samples = int(n_samples)"
      ],
      "execution_count": null,
      "outputs": [
        {
          "output_type": "stream",
          "text": [
            "2668.0\n"
          ],
          "name": "stdout"
        }
      ]
    },
    {
      "cell_type": "code",
      "metadata": {
        "id": "_B6MJya0Hfk1"
      },
      "source": [
        "X_mat = []\n",
        "for i in range(n_audios[class_no]):#could use log\n",
        "  img = np.absolute(class0_data[:,i*n_samples:(i+1)*n_samples])[20:-30,:]\n",
        "  img=img/np.max(img)\n",
        "  image_resized = resize(img, (n_rows, 300),\n",
        "                       anti_aliasing=True)\n",
        "  image_resized = image_resized/np.max(image_resized)\n",
        "  binary = np.zeros(image_resized.shape, dtype=np.float32)\n",
        "  binary[image_resized > 0.04] =1\n",
        "  X_mat.append(binary)"
      ],
      "execution_count": null,
      "outputs": []
    },
    {
      "cell_type": "code",
      "metadata": {
        "colab": {
          "base_uri": "https://localhost:8080/",
          "height": 300
        },
        "id": "iTGbBrRhugWv",
        "outputId": "c795aeff-136c-418d-f582-ab485452a794"
      },
      "source": [
        "img = np.absolute(class0_data[:,50*n_samples:(50+1)*n_samples])[20:-30,:]\n",
        "img = img/np.max(img)\n",
        "img = img[:,:1000]\n",
        "image_resized = resize(img, (500, 500),\n",
        "                       anti_aliasing=True)\n",
        "img = image_resized/np.max(image_resized)\n",
        "img = exposure.equalize_hist(img)\n",
        "#plt.imshow(image_resized, vmax=1, vmin=0, cmap='gray')\n",
        "#thresh = threshold_otsu(image_resized)\n",
        "#binary = np.zeros(image_resized.shape, dtype=np.float32)\n",
        "#binary[image_resized > 0.04] =1\n",
        "plt.imshow(img)\n",
        "plt.xlabel('frames')\n",
        "plt.ylabel('frequency bins')\n",
        "#plt.grid()"
      ],
      "execution_count": null,
      "outputs": [
        {
          "output_type": "execute_result",
          "data": {
            "text/plain": [
              "Text(0, 0.5, 'frequency bins')"
            ]
          },
          "metadata": {
            "tags": []
          },
          "execution_count": 102
        },
        {
          "output_type": "display_data",
          "data": {
            "image/png": "[encoded data removed]",
            "text/plain": [
              "<Figure size 432x288 with 1 Axes>"
            ]
          },
          "metadata": {
            "tags": [],
            "needs_background": "light"
          }
        }
      ]
    },
    {
      "cell_type": "code",
      "metadata": {
        "colab": {
          "base_uri": "https://localhost:8080/"
        },
        "id": "Oci6aGwt3ndy",
        "outputId": "26768d47-7ceb-4320-9c16-19259db4900d"
      },
      "source": [
        "#class0_data.shape[1]/500"
      ],
      "execution_count": null,
      "outputs": [
        {
          "output_type": "execute_result",
          "data": {
            "text/plain": [
              "2150.408"
            ]
          },
          "metadata": {
            "tags": []
          },
          "execution_count": 75
        }
      ]
    },
    {
      "cell_type": "code",
      "metadata": {
        "id": "T85l92doutaW"
      },
      "source": [
        "np.save(data_save_path+'stft_image_300_'+str(class_no)+'.npy', X_mat)"
      ],
      "execution_count": null,
      "outputs": []
    },
    {
      "cell_type": "code",
      "metadata": {
        "colab": {
          "base_uri": "https://localhost:8080/"
        },
        "id": "yDZgpipqv87P",
        "outputId": "eced0190-658a-4b40-a4f4-8529ea48eacd"
      },
      "source": [
        "np.array(X_mat).shape"
      ],
      "execution_count": null,
      "outputs": [
        {
          "output_type": "execute_result",
          "data": {
            "text/plain": [
              "(481, 257, 300)"
            ]
          },
          "metadata": {
            "tags": []
          },
          "execution_count": 50
        }
      ]
    },
    {
      "cell_type": "code",
      "metadata": {
        "colab": {
          "base_uri": "https://localhost:8080/",
          "height": 286
        },
        "id": "qr94XfiQN330",
        "outputId": "1893d2e7-15ef-44e1-ea58-5f8649e1f4c4"
      },
      "source": [
        "plt.imshow(X_mat[0])"
      ],
      "execution_count": null,
      "outputs": [
        {
          "output_type": "execute_result",
          "data": {
            "text/plain": [
              "<matplotlib.image.AxesImage at 0x7f46d79411d0>"
            ]
          },
          "metadata": {
            "tags": []
          },
          "execution_count": 51
        },
        {
          "output_type": "display_data",
          "data": {
            "image/png": "[encoded data removed]",
            "text/plain": [
              "<Figure size 432x288 with 1 Axes>"
            ]
          },
          "metadata": {
            "tags": [],
            "needs_background": "light"
          }
        }
      ]
    },
    {
      "cell_type": "code",
      "metadata": {
        "id": "3sTPBpM253Ga"
      },
      "source": [
        "X_all=[]\n",
        "y_all=[]\n",
        "n_test_classes = 9\n",
        "for i in range(9,16):\n",
        "  images = np.load(data_save_path+'stft_image_300_'+str(i)+'.npy', allow_pickle=True)\n",
        "  #for j in range(images.shape[0]):\n",
        "   # im = images[j,:,:]\n",
        "    #images[j,:,:] = im/np.max(im)\n",
        "  X_all=X_all+list(images)\n",
        "  y_all=y_all+[i-9]*images.shape[0]"
      ],
      "execution_count": null,
      "outputs": []
    },
    {
      "cell_type": "code",
      "metadata": {
        "id": "NpPuS4nO55gV"
      },
      "source": [
        "X_train, X_test, y_train, y_test = train_test_split(X_all, y_all, test_size=0.2, random_state=99)"
      ],
      "execution_count": null,
      "outputs": []
    },
    {
      "cell_type": "code",
      "metadata": {
        "id": "qhFRG0OW6CYM"
      },
      "source": [
        "rows_image, cols_image = X_train[0].shape[0], X_train[0].shape[1]"
      ],
      "execution_count": null,
      "outputs": []
    },
    {
      "cell_type": "code",
      "metadata": {
        "id": "Tt4A8WkESZcx"
      },
      "source": [
        "X_train = np.array(X_train).reshape(-1, rows_image, cols_image, 1)\n",
        "y_train = np.array(y_train)"
      ],
      "execution_count": null,
      "outputs": []
    },
    {
      "cell_type": "code",
      "metadata": {
        "id": "xHPeTOB2eNg8"
      },
      "source": [
        "X_test = np.array(X_test).reshape(-1, rows_image, cols_image, 1)"
      ],
      "execution_count": null,
      "outputs": []
    },
    {
      "cell_type": "code",
      "metadata": {
        "colab": {
          "base_uri": "https://localhost:8080/"
        },
        "id": "Ej-opZWJWfU-",
        "outputId": "2edda694-c0db-4c52-f612-8d9cb2b62e92"
      },
      "source": [
        "X_test.shape"
      ],
      "execution_count": null,
      "outputs": [
        {
          "output_type": "execute_result",
          "data": {
            "text/plain": [
              "(641, 257, 300, 1)"
            ]
          },
          "metadata": {
            "tags": []
          },
          "execution_count": 88
        }
      ]
    },
    {
      "cell_type": "code",
      "metadata": {
        "id": "Wx-OU8WobRzk"
      },
      "source": [
        "#one-hot encode target column\n",
        "y_train = to_categorical(y_train)\n",
        "y_test = to_categorical(y_test)"
      ],
      "execution_count": null,
      "outputs": []
    },
    {
      "cell_type": "code",
      "metadata": {
        "colab": {
          "base_uri": "https://localhost:8080/"
        },
        "id": "Cvd98jvBbUg6",
        "outputId": "6bf5d8a4-034c-4895-9307-3c91b170bf42"
      },
      "source": [
        "y_train[101]"
      ],
      "execution_count": null,
      "outputs": [
        {
          "output_type": "execute_result",
          "data": {
            "text/plain": [
              "array([1., 0., 0., 0., 0., 0., 0.], dtype=float32)"
            ]
          },
          "metadata": {
            "tags": []
          },
          "execution_count": 90
        }
      ]
    },
    {
      "cell_type": "code",
      "metadata": {
        "id": "O9HeGmrjWh8M"
      },
      "source": [
        "model = Sequential()\n",
        "model.add(Conv2D(32, kernel_size = (3, 3), activation='relu', input_shape=(257, 300, 1)))\n",
        "model.add(MaxPooling2D(pool_size=(2,2)))\n",
        "#model.add(BatchNormalization())\n",
        "model.add(Conv2D(64, kernel_size=(3,3), activation='relu'))\n",
        "model.add(MaxPooling2D(pool_size=(2,2)))\n",
        "#model.add(BatchNormalization())\n",
        "'''model.add(Conv2D(96, kernel_size=(3,3), activation='relu'))\n",
        "model.add(MaxPooling2D(pool_size=(2,2)))\n",
        "model.add(BatchNormalization())\n",
        "model.add(Conv2D(96, kernel_size=(3,3), activation='relu'))\n",
        "model.add(MaxPooling2D(pool_size=(2,2)))\n",
        "model.add(BatchNormalization())\n",
        "model.add(Conv2D(64, kernel_size=(3,3), activation='relu'))\n",
        "model.add(MaxPooling2D(pool_size=(2,2)))\n",
        "model.add(BatchNormalization())\n",
        "model.add(Dropout(0.2))'''\n",
        "model.add(Flatten())\n",
        "model.add(Dense(128, activation='relu'))\n",
        "#model.add(Dropout(0.2))\n",
        "#model.add(Dense(64, activation='relu'))\n",
        "#model.add(Dropout(0.3))\n",
        "model.add(Dense(7, activation = 'softmax'))"
      ],
      "execution_count": null,
      "outputs": []
    },
    {
      "cell_type": "code",
      "metadata": {
        "id": "eT2mLKLPXgLp"
      },
      "source": [
        "model.compile(loss='categorical_crossentropy', optimizer='adam', metrics = ['accuracy'])"
      ],
      "execution_count": null,
      "outputs": []
    },
    {
      "cell_type": "code",
      "metadata": {
        "id": "SOZP-WPcDj72"
      },
      "source": [
        "np.save(data_save_path+'X_train_'+str(n_test_classes)+'.npy', X_train)"
      ],
      "execution_count": null,
      "outputs": []
    },
    {
      "cell_type": "code",
      "metadata": {
        "id": "W3yww8YOEOWN"
      },
      "source": [
        "np.save(data_save_path+'X_test_'+str(n_test_classes)+'.npy', X_test)"
      ],
      "execution_count": null,
      "outputs": []
    },
    {
      "cell_type": "code",
      "metadata": {
        "id": "pp-fyG59EQRT"
      },
      "source": [
        "np.save(data_save_path+'y_train_'+str(n_test_classes)+'.npy', y_train)"
      ],
      "execution_count": null,
      "outputs": []
    },
    {
      "cell_type": "code",
      "metadata": {
        "id": "tJenadUwESPD"
      },
      "source": [
        "np.save(data_save_path+'y_test_'+str(n_test_classes)+'.npy', y_test)"
      ],
      "execution_count": null,
      "outputs": []
    },
    {
      "cell_type": "code",
      "metadata": {
        "id": "VobLL0utFhTD"
      },
      "source": [
        "#del X_train, X_test, y_train, y_test\n",
        "X_train = np.load(data_save_path+'X_train_23.npy')\n",
        "y_train = np.load(data_save_path+'y_train_23.npy')"
      ],
      "execution_count": null,
      "outputs": []
    },
    {
      "cell_type": "code",
      "metadata": {
        "id": "HlAN_TDs7ap9"
      },
      "source": [
        "X_test = np.load(data_save_path+'X_test_23.npy')\n",
        "y_test = np.load(data_save_path+'y_test_23.npy')"
      ],
      "execution_count": null,
      "outputs": []
    },
    {
      "cell_type": "code",
      "metadata": {
        "colab": {
          "base_uri": "https://localhost:8080/"
        },
        "id": "AjZnjBItOrLW",
        "outputId": "8ea077a1-7136-4bc2-9414-7aece5cd225a"
      },
      "source": [
        "#X_train.shape\n",
        "X_test.shape"
      ],
      "execution_count": null,
      "outputs": [
        {
          "output_type": "execute_result",
          "data": {
            "text/plain": [
              "(641, 257, 300, 1)"
            ]
          },
          "metadata": {
            "tags": []
          },
          "execution_count": 93
        }
      ]
    },
    {
      "cell_type": "code",
      "metadata": {
        "colab": {
          "base_uri": "https://localhost:8080/"
        },
        "id": "duNqDtfBXkut",
        "outputId": "65e939bf-5764-4e1e-9be2-d37457c4f65c"
      },
      "source": [
        "model.fit(X_train, y_train, batch_size = 20, epochs = 1, verbose = 1)"
      ],
      "execution_count": null,
      "outputs": [
        {
          "output_type": "stream",
          "text": [
            "\r  1/129 [..............................] - ETA: 13s - loss: 0.1459 - accuracy: 1.0000"
          ],
          "name": "stdout"
        },
        {
          "output_type": "stream",
          "text": [
            "/usr/local/lib/python3.7/dist-packages/tensorflow/python/data/ops/dataset_ops.py:3704: UserWarning: Even though the `tf.config.experimental_run_functions_eagerly` option is set, this option does not apply to tf.data functions. To force eager execution of tf.data functions, please use `tf.data.experimental.enable.debug_mode()`.\n",
            "  \"Even though the `tf.config.experimental_run_functions_eagerly` \"\n"
          ],
          "name": "stderr"
        },
        {
          "output_type": "stream",
          "text": [
            "129/129 [==============================] - 11s 86ms/step - loss: 0.0798 - accuracy: 0.9836\n"
          ],
          "name": "stdout"
        },
        {
          "output_type": "execute_result",
          "data": {
            "text/plain": [
              "<keras.callbacks.History at 0x7f90e20ad790>"
            ]
          },
          "metadata": {
            "tags": []
          },
          "execution_count": 106
        }
      ]
    },
    {
      "cell_type": "code",
      "metadata": {
        "colab": {
          "base_uri": "https://localhost:8080/"
        },
        "id": "DrxIRSBAIT9X",
        "outputId": "cc641273-f975-4315-c078-d1861aaed924"
      },
      "source": [
        "model.save(data_save_path+\"model_23\")"
      ],
      "execution_count": null,
      "outputs": [
        {
          "output_type": "stream",
          "text": [
            "INFO:tensorflow:Assets written to: /content/drive/MyDrive/TFA/data_save/model_23/assets\n"
          ],
          "name": "stdout"
        }
      ]
    },
    {
      "cell_type": "code",
      "metadata": {
        "id": "JVUv0rWF7_Bd"
      },
      "source": [
        "model = keras.models.load_model(data_save_path+\"model_23\")"
      ],
      "execution_count": null,
      "outputs": []
    },
    {
      "cell_type": "code",
      "metadata": {
        "colab": {
          "base_uri": "https://localhost:8080/"
        },
        "id": "xWzRrtiJXx38",
        "outputId": "dc52f770-8c6d-4fda-f3a6-2c15e587352e"
      },
      "source": [
        "y_pred = np.argmax(model.predict(X_test),axis=1)"
      ],
      "execution_count": null,
      "outputs": [
        {
          "output_type": "stream",
          "text": [
            "/usr/local/lib/python3.7/dist-packages/tensorflow/python/data/ops/dataset_ops.py:3704: UserWarning: Even though the `tf.config.experimental_run_functions_eagerly` option is set, this option does not apply to tf.data functions. To force eager execution of tf.data functions, please use `tf.data.experimental.enable.debug_mode()`.\n",
            "  \"Even though the `tf.config.experimental_run_functions_eagerly` \"\n"
          ],
          "name": "stderr"
        }
      ]
    },
    {
      "cell_type": "code",
      "metadata": {
        "colab": {
          "base_uri": "https://localhost:8080/"
        },
        "id": "X-CFqzeqYL29",
        "outputId": "b5800bc9-cfea-4f2b-ce33-7fb9d23de931"
      },
      "source": [
        "np.argmax(y_test,axis=1).shape"
      ],
      "execution_count": null,
      "outputs": [
        {
          "output_type": "execute_result",
          "data": {
            "text/plain": [
              "(641,)"
            ]
          },
          "metadata": {
            "tags": []
          },
          "execution_count": 108
        }
      ]
    },
    {
      "cell_type": "code",
      "metadata": {
        "id": "RrmmgtZVfa5K"
      },
      "source": [
        "accuracy = np.count_nonzero(y_pred==np.argmax(y_test,axis=1))*100/y_pred.shape[0]"
      ],
      "execution_count": null,
      "outputs": []
    },
    {
      "cell_type": "code",
      "metadata": {
        "colab": {
          "base_uri": "https://localhost:8080/"
        },
        "id": "c6W5J50ii-no",
        "outputId": "ae000d0a-0b68-42ef-89cb-e2e7accadb6a"
      },
      "source": [
        "accuracy"
      ],
      "execution_count": null,
      "outputs": [
        {
          "output_type": "execute_result",
          "data": {
            "text/plain": [
              "56.3182527301092"
            ]
          },
          "metadata": {
            "tags": []
          },
          "execution_count": 110
        }
      ]
    },
    {
      "cell_type": "code",
      "metadata": {
        "id": "fRcZvK9ijAIP",
        "colab": {
          "base_uri": "https://localhost:8080/",
          "height": 1000
        },
        "outputId": "1fda4105-e850-4d23-96b6-4ee087acd040"
      },
      "source": [
        "cm = confusion_matrix(np.argmax(y_test,axis=1), y_pred, normalize='true')\n",
        "cm=cm/np.max(cm)\n",
        "#disp = ConfusionMatrixDisplay(confusion_matrix=cm, display_labels=birds_names)\n",
        "#disp.plot()\n",
        "my_dpi=50\n",
        "fig, axs = plt.subplots(nrows=1, ncols=1, figsize=(25, 25), dpi=my_dpi)\n",
        "for i in range(1):\n",
        "    #ax = axs[i]\n",
        "    ax = plt.subplot()\n",
        "    sns.set(font_scale=1.5)\n",
        "    sns.heatmap(cm, annot=True,ax=ax, cmap=\"Reds\", fmt=\".2f\", xticklabels=birds_names[9:16], yticklabels=birds_names[9:16])  #annot=True to annotate cells, ftm='g' to disable scientific notation\n",
        "    # labels, title and ticks\n",
        "    ax.set_xlabel('Predicted labels');ax.set_ylabel('True labels')\n",
        "plt.savefig('confusion_mat_test.jpg')"
      ],
      "execution_count": null,
      "outputs": [
        {
          "output_type": "display_data",
          "data": {
            "image/png": "[encoded data removed]",
            "text/plain": [
              "<Figure size 1250x1250 with 2 Axes>"
            ]
          },
          "metadata": {
            "tags": []
          }
        }
      ]
    },
    {
      "cell_type": "code",
      "metadata": {
        "id": "FEMQ-St681E4"
      },
      "source": [
        ""
      ],
      "execution_count": null,
      "outputs": []
    }
  ]
}